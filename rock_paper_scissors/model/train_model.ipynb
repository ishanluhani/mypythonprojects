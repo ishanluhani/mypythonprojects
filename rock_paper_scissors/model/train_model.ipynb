{
 "cells": [
  {
   "cell_type": "code",
   "execution_count": 4,
   "metadata": {},
   "outputs": [
    {
     "name": "stdout",
     "output_type": "stream",
     "text": [
      "Found 3873 images belonging to 4 classes.\n",
      "Found 1958 images belonging to 4 classes.\n"
     ]
    }
   ],
   "source": [
    "from tensorflow.keras.preprocessing.image import ImageDataGenerator\n",
    "from tensorflow import keras\n",
    "import tensorflow as tf\n",
    "\n",
    "batch_size = 64\n",
    "train_datagen = ImageDataGenerator(rescale = 1/255.0)\n",
    "\n",
    "val_datagen = ImageDataGenerator(rescale = 1/255.0)\n",
    "\n",
    "train_gen =  train_datagen.flow_from_directory(\"data/train\",\n",
    "                                               target_size = (50,50),\n",
    "                                               color_mode = \"grayscale\",\n",
    "                                               class_mode = \"categorical\",\n",
    "                                               batch_size = 64)\n",
    "val_gen = val_datagen.flow_from_directory(\"data/validation\",\n",
    "                                          target_size = (50,50),\n",
    "                                          color_mode = \"grayscale\",\n",
    "                                          class_mode = \"categorical\",\n",
    "                                          batch_size = 64)\n"
   ]
  },
  {
   "cell_type": "code",
   "execution_count": 7,
   "metadata": {},
   "outputs": [],
   "source": [
    "model = keras.models.Sequential()\n",
    "model.add(keras.layers.Conv2D(32,(3,3), padding=\"same\", activation=\"relu\", input_shape=(50,50,1)))\n",
    "model.add(keras.layers.MaxPooling2D(pool_size=(2,2)))\n",
    "model.add(keras.layers.Dropout(0.2))\n",
    "\n",
    "model.add(keras.layers.Conv2D(64,(3,3), padding=\"same\", activation=\"relu\"))\n",
    "model.add(keras.layers.MaxPooling2D(pool_size=(2,2)))\n",
    "model.add(keras.layers.Dropout(0.2))\n",
    "\n",
    "model.add(keras.layers.Conv2D(64,(3,3), padding=\"same\", activation=\"relu\"))\n",
    "model.add(keras.layers.MaxPooling2D(pool_size=(2,2)))\n",
    "model.add(keras.layers.Dropout(0.2))\n",
    "\n",
    "model.add(keras.layers.Flatten())\n",
    "model.add(keras.layers.Dense(64, activation=\"relu\"))\n",
    "model.add(keras.layers.Dropout(0.2))\n",
    "model.add(keras.layers.Dense(4, activation=\"softmax\"))\n",
    "\n",
    "model.compile(optimizer=\"adam\", loss=\"categorical_crossentropy\",\n",
    "              metrics=[\"accuracy\"])\n"
   ]
  },
  {
   "cell_type": "code",
   "execution_count": 8,
   "metadata": {},
   "outputs": [
    {
     "name": "stdout",
     "output_type": "stream",
     "text": [
      "done\n"
     ]
    }
   ],
   "source": [
    "print(\"done\")"
   ]
  },
  {
   "cell_type": "code",
   "execution_count": null,
   "metadata": {
    "scrolled": true
   },
   "outputs": [
    {
     "name": "stdout",
     "output_type": "stream",
     "text": [
      "WARNING:tensorflow:From <ipython-input-9-014d85b111f8>:5: Model.fit_generator (from tensorflow.python.keras.engine.training) is deprecated and will be removed in a future version.\n",
      "Instructions for updating:\n",
      "Please use Model.fit, which supports generators.\n",
      "WARNING:tensorflow:sample_weight modes were coerced from\n",
      "  ...\n",
      "    to  \n",
      "  ['...']\n",
      "WARNING:tensorflow:sample_weight modes were coerced from\n",
      "  ...\n",
      "    to  \n",
      "  ['...']\n",
      "Train for 60 steps, validate for 30 steps\n",
      "Epoch 1/50\n",
      "60/60 [==============================] - 36s 608ms/step - loss: 1.3839 - accuracy: 0.2665 - val_loss: 1.3833 - val_accuracy: 0.2589\n",
      "Epoch 2/50\n",
      "60/60 [==============================] - 3s 47ms/step - loss: 1.2776 - accuracy: 0.3946 - val_loss: 1.3166 - val_accuracy: 0.3448\n",
      "Epoch 3/50\n",
      "60/60 [==============================] - 3s 46ms/step - loss: 0.9093 - accuracy: 0.6322 - val_loss: 1.1132 - val_accuracy: 0.5599\n",
      "Epoch 4/50\n",
      "60/60 [==============================] - 3s 47ms/step - loss: 0.5783 - accuracy: 0.7867 - val_loss: 0.9751 - val_accuracy: 0.6370\n",
      "Epoch 5/50\n",
      "60/60 [==============================] - 3s 46ms/step - loss: 0.3605 - accuracy: 0.8719 - val_loss: 1.1967 - val_accuracy: 0.6479\n",
      "Epoch 6/50\n",
      "60/60 [==============================] - 3s 47ms/step - loss: 0.2449 - accuracy: 0.9155 - val_loss: 1.2301 - val_accuracy: 0.6714\n",
      "Epoch 7/50\n",
      "60/60 [==============================] - 3s 50ms/step - loss: 0.1752 - accuracy: 0.9438 - val_loss: 1.3842 - val_accuracy: 0.6927\n",
      "Epoch 8/50\n",
      "60/60 [==============================] - 3s 50ms/step - loss: 0.1264 - accuracy: 0.9583 - val_loss: 1.7296 - val_accuracy: 0.6562\n",
      "Epoch 9/50\n",
      "60/60 [==============================] - 3s 53ms/step - loss: 0.0999 - accuracy: 0.9682 - val_loss: 1.6203 - val_accuracy: 0.6620\n",
      "Epoch 10/50\n",
      "60/60 [==============================] - 27s 442ms/step - loss: 0.0699 - accuracy: 0.9772 - val_loss: 1.8120 - val_accuracy: 0.6979\n",
      "Epoch 11/50\n",
      "60/60 [==============================] - 25s 413ms/step - loss: 0.0663 - accuracy: 0.9808 - val_loss: 1.7787 - val_accuracy: 0.6870\n",
      "Epoch 12/50\n",
      "60/60 [==============================] - 26s 427ms/step - loss: 0.0726 - accuracy: 0.9727 - val_loss: 2.1936 - val_accuracy: 0.6922\n",
      "Epoch 13/50\n",
      "60/60 [==============================] - 25s 420ms/step - loss: 0.0533 - accuracy: 0.9824 - val_loss: 1.7484 - val_accuracy: 0.7146\n",
      "Epoch 14/50\n",
      "60/60 [==============================] - 25s 417ms/step - loss: 0.0424 - accuracy: 0.9863 - val_loss: 2.0991 - val_accuracy: 0.7115\n",
      "Epoch 15/50\n",
      "60/60 [==============================] - 25s 411ms/step - loss: 0.0445 - accuracy: 0.9840 - val_loss: 2.3814 - val_accuracy: 0.6776\n",
      "Epoch 16/50\n",
      "60/60 [==============================] - 25s 417ms/step - loss: 0.0366 - accuracy: 0.9884 - val_loss: 2.2616 - val_accuracy: 0.6859\n",
      "Epoch 17/50\n",
      "60/60 [==============================] - 26s 441ms/step - loss: 0.0404 - accuracy: 0.9861 - val_loss: 1.5815 - val_accuracy: 0.7073\n",
      "Epoch 18/50\n",
      "60/60 [==============================] - 29s 477ms/step - loss: 0.0442 - accuracy: 0.9863 - val_loss: 2.4103 - val_accuracy: 0.6979\n",
      "Epoch 19/50\n",
      "60/60 [==============================] - 28s 467ms/step - loss: 0.0268 - accuracy: 0.9911 - val_loss: 2.0651 - val_accuracy: 0.7089\n",
      "Epoch 20/50\n",
      "60/60 [==============================] - 27s 456ms/step - loss: 0.0440 - accuracy: 0.9845 - val_loss: 2.3868 - val_accuracy: 0.6849\n",
      "Epoch 21/50\n",
      "60/60 [==============================] - 27s 454ms/step - loss: 0.0314 - accuracy: 0.9908 - val_loss: 2.4235 - val_accuracy: 0.7172\n",
      "Epoch 22/50\n",
      "60/60 [==============================] - 12s 204ms/step - loss: 0.0277 - accuracy: 0.9900 - val_loss: 2.5893 - val_accuracy: 0.6958\n",
      "Epoch 23/50\n",
      "60/60 [==============================] - 12s 198ms/step - loss: 0.0186 - accuracy: 0.9955 - val_loss: 2.5749 - val_accuracy: 0.6922\n",
      "Epoch 24/50\n",
      "44/60 [=====================>........] - ETA: 2s - loss: 0.0208 - accuracy: 0.9928"
     ]
    }
   ],
   "source": [
    "model.fit_generator(train_gen,\n",
    "                   epochs=50,\n",
    "                   steps_per_epoch=train_gen.n//train_gen.batch_size,\n",
    "                   validation_data= val_gen,\n",
    "                   validation_steps=val_gen.n//val_gen.batch_size)"
   ]
  },
  {
   "cell_type": "code",
   "execution_count": 12,
   "metadata": {},
   "outputs": [
    {
     "name": "stdout",
     "output_type": "stream",
     "text": [
      "model saved\n"
     ]
    }
   ],
   "source": [
    "model_json = model.to_json()\n",
    "\n",
    "with open(\"model1/model.json\",\"w\") as model_json_file:\n",
    "    model_json_file.write(model_json)\n",
    "    \n",
    "model.save_weights(\"model1/model_weights.h5\")\n",
    "print(\"model saved\")"
   ]
  },
  {
   "cell_type": "code",
   "execution_count": null,
   "metadata": {},
   "outputs": [],
   "source": []
  }
 ],
 "metadata": {
  "kernelspec": {
   "display_name": "Python [conda env:tensorflow]",
   "language": "python",
   "name": "conda-env-tensorflow-py"
  },
  "language_info": {
   "codemirror_mode": {
    "name": "ipython",
    "version": 3
   },
   "file_extension": ".py",
   "mimetype": "text/x-python",
   "name": "python",
   "nbconvert_exporter": "python",
   "pygments_lexer": "ipython3",
   "version": "3.7.10"
  }
 },
 "nbformat": 4,
 "nbformat_minor": 4
}
